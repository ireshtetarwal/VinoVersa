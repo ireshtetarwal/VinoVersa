{
 "cells": [
  {
   "cell_type": "markdown",
   "id": "9d7cad03",
   "metadata": {},
   "source": [
    "#### Iresh_Tetarwal"
   ]
  },
  {
   "cell_type": "markdown",
   "id": "a3c0f583",
   "metadata": {},
   "source": [
    "##### ireshtetarwalmca2023@gmail.com"
   ]
  },
  {
   "cell_type": "markdown",
   "id": "f33132c2",
   "metadata": {},
   "source": [
    "###### Importing the Dependencies"
   ]
  },
  {
   "cell_type": "code",
   "execution_count": 1,
   "id": "d8d4461f",
   "metadata": {},
   "outputs": [],
   "source": [
    "import numpy as np\n",
    "import pandas as pd\n",
    "from sklearn.model_selection import train_test_split\n",
    "from sklearn.metrics import accuracy_score\n",
    "from sklearn.feature_extraction.text import TfidfVectorizer\n",
    "from sklearn.linear_model import LogisticRegression\n",
    "from flask import Flask, request, jsonify\n",
    "import joblib"
   ]
  },
  {
   "cell_type": "markdown",
   "id": "261ba057",
   "metadata": {},
   "source": [
    "##### Data Collection and Analysis\n"
   ]
  },
  {
   "cell_type": "code",
   "execution_count": 2,
   "id": "4815acb9",
   "metadata": {},
   "outputs": [],
   "source": [
    "# loading the shop dataset to a pandas DataFrame\n",
    "wine_dataset = pd.read_csv(r'C:\\Users\\iresh\\Downloads\\Assignment_Wine_data\\OSX_DS_assignment.csv') \n",
    "wine_dataset.dropna(subset=['variety'], inplace=True)  # Drop rows with missing variety\n",
    "\n",
    "wine_dataset['review_description'].fillna('', inplace=True)# Fill missing values with empty string\n",
    "\n",
    "wine_dataset['points'].fillna(0, inplace=True)\n",
    "wine_dataset['price'].fillna(0, inplace=True)\n"
   ]
  },
  {
   "cell_type": "code",
   "execution_count": 3,
   "id": "a8ae0471",
   "metadata": {},
   "outputs": [],
   "source": [
    "pd.read_csv?"
   ]
  },
  {
   "cell_type": "code",
   "execution_count": 4,
   "id": "ba3220af",
   "metadata": {},
   "outputs": [
    {
     "data": {
      "text/html": [
       "<div>\n",
       "<style scoped>\n",
       "    .dataframe tbody tr th:only-of-type {\n",
       "        vertical-align: middle;\n",
       "    }\n",
       "\n",
       "    .dataframe tbody tr th {\n",
       "        vertical-align: top;\n",
       "    }\n",
       "\n",
       "    .dataframe thead th {\n",
       "        text-align: right;\n",
       "    }\n",
       "</style>\n",
       "<table border=\"1\" class=\"dataframe\">\n",
       "  <thead>\n",
       "    <tr style=\"text-align: right;\">\n",
       "      <th></th>\n",
       "      <th>user_name</th>\n",
       "      <th>country</th>\n",
       "      <th>review_title</th>\n",
       "      <th>review_description</th>\n",
       "      <th>designation</th>\n",
       "      <th>points</th>\n",
       "      <th>price</th>\n",
       "      <th>province</th>\n",
       "      <th>region_1</th>\n",
       "      <th>region_2</th>\n",
       "      <th>winery</th>\n",
       "      <th>variety</th>\n",
       "    </tr>\n",
       "  </thead>\n",
       "  <tbody>\n",
       "    <tr>\n",
       "      <th>0</th>\n",
       "      <td>@kerinokeefe</td>\n",
       "      <td>Italy</td>\n",
       "      <td>Nicosia 2013 Vulkà Bianco  (Etna)</td>\n",
       "      <td>Aromas include tropical fruit, broom, brimston...</td>\n",
       "      <td>Vulkà Bianco</td>\n",
       "      <td>87</td>\n",
       "      <td>0.0</td>\n",
       "      <td>Sicily &amp; Sardinia</td>\n",
       "      <td>Etna</td>\n",
       "      <td>NaN</td>\n",
       "      <td>Nicosia</td>\n",
       "      <td>White Blend</td>\n",
       "    </tr>\n",
       "    <tr>\n",
       "      <th>1</th>\n",
       "      <td>@vossroger</td>\n",
       "      <td>Portugal</td>\n",
       "      <td>Quinta dos Avidagos 2011 Avidagos Red (Douro)</td>\n",
       "      <td>This is ripe and fruity, a wine that is smooth...</td>\n",
       "      <td>Avidagos</td>\n",
       "      <td>87</td>\n",
       "      <td>15.0</td>\n",
       "      <td>Douro</td>\n",
       "      <td>NaN</td>\n",
       "      <td>NaN</td>\n",
       "      <td>Quinta dos Avidagos</td>\n",
       "      <td>Portuguese Red</td>\n",
       "    </tr>\n",
       "    <tr>\n",
       "      <th>2</th>\n",
       "      <td>@paulgwine</td>\n",
       "      <td>US</td>\n",
       "      <td>Rainstorm 2013 Pinot Gris (Willamette Valley)</td>\n",
       "      <td>Tart and snappy, the flavors of lime flesh and...</td>\n",
       "      <td>NaN</td>\n",
       "      <td>87</td>\n",
       "      <td>14.0</td>\n",
       "      <td>Oregon</td>\n",
       "      <td>Willamette Valley</td>\n",
       "      <td>Willamette Valley</td>\n",
       "      <td>Rainstorm</td>\n",
       "      <td>Pinot Gris</td>\n",
       "    </tr>\n",
       "    <tr>\n",
       "      <th>3</th>\n",
       "      <td>NaN</td>\n",
       "      <td>US</td>\n",
       "      <td>St. Julian 2013 Reserve Late Harvest Riesling ...</td>\n",
       "      <td>Pineapple rind, lemon pith and orange blossom ...</td>\n",
       "      <td>Reserve Late Harvest</td>\n",
       "      <td>87</td>\n",
       "      <td>13.0</td>\n",
       "      <td>Michigan</td>\n",
       "      <td>Lake Michigan Shore</td>\n",
       "      <td>NaN</td>\n",
       "      <td>St. Julian</td>\n",
       "      <td>Riesling</td>\n",
       "    </tr>\n",
       "    <tr>\n",
       "      <th>4</th>\n",
       "      <td>@paulgwine</td>\n",
       "      <td>US</td>\n",
       "      <td>Sweet Cheeks 2012 Vintner's Reserve Wild Child...</td>\n",
       "      <td>Much like the regular bottling from 2012, this...</td>\n",
       "      <td>Vintner's Reserve Wild Child Block</td>\n",
       "      <td>87</td>\n",
       "      <td>65.0</td>\n",
       "      <td>Oregon</td>\n",
       "      <td>Willamette Valley</td>\n",
       "      <td>Willamette Valley</td>\n",
       "      <td>Sweet Cheeks</td>\n",
       "      <td>Pinot Noir</td>\n",
       "    </tr>\n",
       "  </tbody>\n",
       "</table>\n",
       "</div>"
      ],
      "text/plain": [
       "      user_name   country                                       review_title  \\\n",
       "0  @kerinokeefe     Italy                  Nicosia 2013 Vulkà Bianco  (Etna)   \n",
       "1    @vossroger  Portugal      Quinta dos Avidagos 2011 Avidagos Red (Douro)   \n",
       "2   @paulgwine         US      Rainstorm 2013 Pinot Gris (Willamette Valley)   \n",
       "3           NaN        US  St. Julian 2013 Reserve Late Harvest Riesling ...   \n",
       "4   @paulgwine         US  Sweet Cheeks 2012 Vintner's Reserve Wild Child...   \n",
       "\n",
       "                                  review_description  \\\n",
       "0  Aromas include tropical fruit, broom, brimston...   \n",
       "1  This is ripe and fruity, a wine that is smooth...   \n",
       "2  Tart and snappy, the flavors of lime flesh and...   \n",
       "3  Pineapple rind, lemon pith and orange blossom ...   \n",
       "4  Much like the regular bottling from 2012, this...   \n",
       "\n",
       "                          designation  points  price           province  \\\n",
       "0                        Vulkà Bianco      87    0.0  Sicily & Sardinia   \n",
       "1                            Avidagos      87   15.0              Douro   \n",
       "2                                 NaN      87   14.0             Oregon   \n",
       "3                Reserve Late Harvest      87   13.0           Michigan   \n",
       "4  Vintner's Reserve Wild Child Block      87   65.0             Oregon   \n",
       "\n",
       "              region_1           region_2               winery         variety  \n",
       "0                 Etna                NaN              Nicosia     White Blend  \n",
       "1                  NaN                NaN  Quinta dos Avidagos  Portuguese Red  \n",
       "2    Willamette Valley  Willamette Valley            Rainstorm      Pinot Gris  \n",
       "3  Lake Michigan Shore                NaN           St. Julian        Riesling  \n",
       "4    Willamette Valley  Willamette Valley         Sweet Cheeks      Pinot Noir  "
      ]
     },
     "execution_count": 4,
     "metadata": {},
     "output_type": "execute_result"
    }
   ],
   "source": [
    "# printing the first 5 rows of the dataset\n",
    "wine_dataset.head()"
   ]
  },
  {
   "cell_type": "code",
   "execution_count": 5,
   "id": "b7911056",
   "metadata": {},
   "outputs": [
    {
     "data": {
      "text/plain": [
       "(103322, 12)"
      ]
     },
     "execution_count": 5,
     "metadata": {},
     "output_type": "execute_result"
    }
   ],
   "source": [
    "# number of rows and Columns in this dataset\n",
    "wine_dataset.shape"
   ]
  },
  {
   "cell_type": "code",
   "execution_count": 6,
   "id": "e0211088",
   "metadata": {},
   "outputs": [
    {
     "data": {
      "text/html": [
       "<div>\n",
       "<style scoped>\n",
       "    .dataframe tbody tr th:only-of-type {\n",
       "        vertical-align: middle;\n",
       "    }\n",
       "\n",
       "    .dataframe tbody tr th {\n",
       "        vertical-align: top;\n",
       "    }\n",
       "\n",
       "    .dataframe thead th {\n",
       "        text-align: right;\n",
       "    }\n",
       "</style>\n",
       "<table border=\"1\" class=\"dataframe\">\n",
       "  <thead>\n",
       "    <tr style=\"text-align: right;\">\n",
       "      <th></th>\n",
       "      <th>points</th>\n",
       "      <th>price</th>\n",
       "    </tr>\n",
       "  </thead>\n",
       "  <tbody>\n",
       "    <tr>\n",
       "      <th>count</th>\n",
       "      <td>103322.000000</td>\n",
       "      <td>103322.000000</td>\n",
       "    </tr>\n",
       "    <tr>\n",
       "      <th>mean</th>\n",
       "      <td>88.540630</td>\n",
       "      <td>34.302491</td>\n",
       "    </tr>\n",
       "    <tr>\n",
       "      <th>std</th>\n",
       "      <td>3.090903</td>\n",
       "      <td>42.411965</td>\n",
       "    </tr>\n",
       "    <tr>\n",
       "      <th>min</th>\n",
       "      <td>80.000000</td>\n",
       "      <td>0.000000</td>\n",
       "    </tr>\n",
       "    <tr>\n",
       "      <th>25%</th>\n",
       "      <td>86.000000</td>\n",
       "      <td>15.000000</td>\n",
       "    </tr>\n",
       "    <tr>\n",
       "      <th>50%</th>\n",
       "      <td>88.000000</td>\n",
       "      <td>25.000000</td>\n",
       "    </tr>\n",
       "    <tr>\n",
       "      <th>75%</th>\n",
       "      <td>91.000000</td>\n",
       "      <td>43.000000</td>\n",
       "    </tr>\n",
       "    <tr>\n",
       "      <th>max</th>\n",
       "      <td>100.000000</td>\n",
       "      <td>3300.000000</td>\n",
       "    </tr>\n",
       "  </tbody>\n",
       "</table>\n",
       "</div>"
      ],
      "text/plain": [
       "              points          price\n",
       "count  103322.000000  103322.000000\n",
       "mean       88.540630      34.302491\n",
       "std         3.090903      42.411965\n",
       "min        80.000000       0.000000\n",
       "25%        86.000000      15.000000\n",
       "50%        88.000000      25.000000\n",
       "75%        91.000000      43.000000\n",
       "max       100.000000    3300.000000"
      ]
     },
     "execution_count": 6,
     "metadata": {},
     "output_type": "execute_result"
    }
   ],
   "source": [
    "# getting the statistical measures of the data\n",
    "wine_dataset.describe()"
   ]
  },
  {
   "cell_type": "code",
   "execution_count": 7,
   "id": "aa2fc049",
   "metadata": {},
   "outputs": [
    {
     "data": {
      "text/plain": [
       "Pinot Noir                    13272\n",
       "Chardonnay                    11753\n",
       "Cabernet Sauvignon             9472\n",
       "Red Blend                      8946\n",
       "Bordeaux-style Red Blend       6915\n",
       "Riesling                       5189\n",
       "Sauvignon Blanc                4967\n",
       "Syrah                          4142\n",
       "Rosé                           3564\n",
       "Merlot                         3102\n",
       "Nebbiolo                       2804\n",
       "Zinfandel                      2714\n",
       "Sangiovese                     2707\n",
       "Malbec                         2652\n",
       "Portuguese Red                 2466\n",
       "White Blend                    2360\n",
       "Sparkling Blend                2153\n",
       "Tempranillo                    1810\n",
       "Rhône-style Red Blend          1471\n",
       "Pinot Gris                     1455\n",
       "Champagne Blend                1396\n",
       "Cabernet Franc                 1353\n",
       "Grüner Veltliner               1345\n",
       "Portuguese White               1159\n",
       "Bordeaux-style White Blend     1066\n",
       "Pinot Grigio                   1052\n",
       "Gamay                          1025\n",
       "Gewürztraminer                 1012\n",
       "Name: variety, dtype: int64"
      ]
     },
     "execution_count": 7,
     "metadata": {},
     "output_type": "execute_result"
    }
   ],
   "source": [
    "wine_dataset['variety'].value_counts()"
   ]
  },
  {
   "cell_type": "code",
   "execution_count": 8,
   "id": "57daadc7",
   "metadata": {},
   "outputs": [
    {
     "data": {
      "text/plain": [
       "(95434,)"
      ]
     },
     "execution_count": 8,
     "metadata": {},
     "output_type": "execute_result"
    }
   ],
   "source": [
    "wine_dataset['review_description'].value_counts().shape"
   ]
  },
  {
   "cell_type": "code",
   "execution_count": 9,
   "id": "39cabafe",
   "metadata": {},
   "outputs": [
    {
     "data": {
      "text/html": [
       "<div>\n",
       "<style scoped>\n",
       "    .dataframe tbody tr th:only-of-type {\n",
       "        vertical-align: middle;\n",
       "    }\n",
       "\n",
       "    .dataframe tbody tr th {\n",
       "        vertical-align: top;\n",
       "    }\n",
       "\n",
       "    .dataframe thead th {\n",
       "        text-align: right;\n",
       "    }\n",
       "</style>\n",
       "<table border=\"1\" class=\"dataframe\">\n",
       "  <thead>\n",
       "    <tr style=\"text-align: right;\">\n",
       "      <th></th>\n",
       "      <th>points</th>\n",
       "      <th>price</th>\n",
       "    </tr>\n",
       "    <tr>\n",
       "      <th>variety</th>\n",
       "      <th></th>\n",
       "      <th></th>\n",
       "    </tr>\n",
       "  </thead>\n",
       "  <tbody>\n",
       "    <tr>\n",
       "      <th>Bordeaux-style Red Blend</th>\n",
       "      <td>89.106435</td>\n",
       "      <td>36.457845</td>\n",
       "    </tr>\n",
       "    <tr>\n",
       "      <th>Bordeaux-style White Blend</th>\n",
       "      <td>88.690432</td>\n",
       "      <td>22.636961</td>\n",
       "    </tr>\n",
       "    <tr>\n",
       "      <th>Cabernet Franc</th>\n",
       "      <td>88.150776</td>\n",
       "      <td>33.600887</td>\n",
       "    </tr>\n",
       "    <tr>\n",
       "      <th>Cabernet Sauvignon</th>\n",
       "      <td>88.607580</td>\n",
       "      <td>47.504751</td>\n",
       "    </tr>\n",
       "    <tr>\n",
       "      <th>Champagne Blend</th>\n",
       "      <td>89.663324</td>\n",
       "      <td>61.369628</td>\n",
       "    </tr>\n",
       "    <tr>\n",
       "      <th>Chardonnay</th>\n",
       "      <td>88.340083</td>\n",
       "      <td>32.545222</td>\n",
       "    </tr>\n",
       "    <tr>\n",
       "      <th>Gamay</th>\n",
       "      <td>88.033171</td>\n",
       "      <td>16.882927</td>\n",
       "    </tr>\n",
       "    <tr>\n",
       "      <th>Gewürztraminer</th>\n",
       "      <td>88.590909</td>\n",
       "      <td>24.829051</td>\n",
       "    </tr>\n",
       "    <tr>\n",
       "      <th>Grüner Veltliner</th>\n",
       "      <td>89.980669</td>\n",
       "      <td>23.649814</td>\n",
       "    </tr>\n",
       "    <tr>\n",
       "      <th>Malbec</th>\n",
       "      <td>87.983032</td>\n",
       "      <td>29.260935</td>\n",
       "    </tr>\n",
       "    <tr>\n",
       "      <th>Merlot</th>\n",
       "      <td>87.208575</td>\n",
       "      <td>29.162476</td>\n",
       "    </tr>\n",
       "    <tr>\n",
       "      <th>Nebbiolo</th>\n",
       "      <td>90.251070</td>\n",
       "      <td>54.542083</td>\n",
       "    </tr>\n",
       "    <tr>\n",
       "      <th>Pinot Grigio</th>\n",
       "      <td>86.237643</td>\n",
       "      <td>15.755703</td>\n",
       "    </tr>\n",
       "    <tr>\n",
       "      <th>Pinot Gris</th>\n",
       "      <td>88.496220</td>\n",
       "      <td>22.059107</td>\n",
       "    </tr>\n",
       "    <tr>\n",
       "      <th>Pinot Noir</th>\n",
       "      <td>89.411468</td>\n",
       "      <td>45.792043</td>\n",
       "    </tr>\n",
       "    <tr>\n",
       "      <th>Portuguese Red</th>\n",
       "      <td>88.810624</td>\n",
       "      <td>22.101784</td>\n",
       "    </tr>\n",
       "    <tr>\n",
       "      <th>Portuguese White</th>\n",
       "      <td>86.930975</td>\n",
       "      <td>13.054357</td>\n",
       "    </tr>\n",
       "    <tr>\n",
       "      <th>Red Blend</th>\n",
       "      <td>88.380282</td>\n",
       "      <td>33.996088</td>\n",
       "    </tr>\n",
       "    <tr>\n",
       "      <th>Rhône-style Red Blend</th>\n",
       "      <td>89.153637</td>\n",
       "      <td>33.358260</td>\n",
       "    </tr>\n",
       "    <tr>\n",
       "      <th>Riesling</th>\n",
       "      <td>89.450183</td>\n",
       "      <td>30.662170</td>\n",
       "    </tr>\n",
       "    <tr>\n",
       "      <th>Rosé</th>\n",
       "      <td>86.846240</td>\n",
       "      <td>16.938272</td>\n",
       "    </tr>\n",
       "    <tr>\n",
       "      <th>Sangiovese</th>\n",
       "      <td>88.550794</td>\n",
       "      <td>39.759512</td>\n",
       "    </tr>\n",
       "    <tr>\n",
       "      <th>Sauvignon Blanc</th>\n",
       "      <td>87.429636</td>\n",
       "      <td>19.479162</td>\n",
       "    </tr>\n",
       "    <tr>\n",
       "      <th>Sparkling Blend</th>\n",
       "      <td>88.045053</td>\n",
       "      <td>27.878309</td>\n",
       "    </tr>\n",
       "    <tr>\n",
       "      <th>Syrah</th>\n",
       "      <td>89.286577</td>\n",
       "      <td>38.608643</td>\n",
       "    </tr>\n",
       "    <tr>\n",
       "      <th>Tempranillo</th>\n",
       "      <td>87.514365</td>\n",
       "      <td>30.789503</td>\n",
       "    </tr>\n",
       "    <tr>\n",
       "      <th>White Blend</th>\n",
       "      <td>87.352966</td>\n",
       "      <td>21.389407</td>\n",
       "    </tr>\n",
       "    <tr>\n",
       "      <th>Zinfandel</th>\n",
       "      <td>87.828666</td>\n",
       "      <td>29.427045</td>\n",
       "    </tr>\n",
       "  </tbody>\n",
       "</table>\n",
       "</div>"
      ],
      "text/plain": [
       "                               points      price\n",
       "variety                                         \n",
       "Bordeaux-style Red Blend    89.106435  36.457845\n",
       "Bordeaux-style White Blend  88.690432  22.636961\n",
       "Cabernet Franc              88.150776  33.600887\n",
       "Cabernet Sauvignon          88.607580  47.504751\n",
       "Champagne Blend             89.663324  61.369628\n",
       "Chardonnay                  88.340083  32.545222\n",
       "Gamay                       88.033171  16.882927\n",
       "Gewürztraminer              88.590909  24.829051\n",
       "Grüner Veltliner            89.980669  23.649814\n",
       "Malbec                      87.983032  29.260935\n",
       "Merlot                      87.208575  29.162476\n",
       "Nebbiolo                    90.251070  54.542083\n",
       "Pinot Grigio                86.237643  15.755703\n",
       "Pinot Gris                  88.496220  22.059107\n",
       "Pinot Noir                  89.411468  45.792043\n",
       "Portuguese Red              88.810624  22.101784\n",
       "Portuguese White            86.930975  13.054357\n",
       "Red Blend                   88.380282  33.996088\n",
       "Rhône-style Red Blend       89.153637  33.358260\n",
       "Riesling                    89.450183  30.662170\n",
       "Rosé                        86.846240  16.938272\n",
       "Sangiovese                  88.550794  39.759512\n",
       "Sauvignon Blanc             87.429636  19.479162\n",
       "Sparkling Blend             88.045053  27.878309\n",
       "Syrah                       89.286577  38.608643\n",
       "Tempranillo                 87.514365  30.789503\n",
       "White Blend                 87.352966  21.389407\n",
       "Zinfandel                   87.828666  29.427045"
      ]
     },
     "execution_count": 9,
     "metadata": {},
     "output_type": "execute_result"
    }
   ],
   "source": [
    "wine_dataset.groupby('variety').mean()"
   ]
  },
  {
   "cell_type": "code",
   "execution_count": 10,
   "id": "426a0010",
   "metadata": {},
   "outputs": [],
   "source": [
    "# Split the data into features (X) and target variable (y)\n",
    "X = wine_dataset['review_description']\n",
    "y = wine_dataset['variety']\n",
    "\n",
    "# Convert the text data into numerical features using TF-IDF vectorization\n",
    "vectorizer = TfidfVectorizer()\n",
    "X = vectorizer.fit_transform(X)"
   ]
  },
  {
   "cell_type": "code",
   "execution_count": 11,
   "id": "777ae90c",
   "metadata": {},
   "outputs": [
    {
     "name": "stdout",
     "output_type": "stream",
     "text": [
      "  (0, 735)\t0.0882019967154393\n",
      "  (0, 3637)\t0.1915916634816994\n",
      "  (0, 1201)\t0.16185267927807337\n",
      "  (0, 21375)\t0.19923743939532795\n",
      "  (0, 5231)\t0.1337000301826892\n",
      "  (0, 1599)\t0.12908242700135558\n",
      "  (0, 26436)\t0.42006732146977654\n",
      "  (0, 17184)\t0.18483753360998428\n",
      "  (0, 9221)\t0.24040605376821117\n",
      "  (0, 17616)\t0.24597071154312183\n",
      "  (0, 13095)\t0.23938543752691877\n",
      "  (0, 17797)\t0.08643258936638656\n",
      "  (0, 25069)\t0.04587361650116203\n",
      "  (0, 12015)\t0.14978271222025646\n",
      "  (0, 8026)\t0.29450801906083995\n",
      "  (0, 1388)\t0.07700785219063658\n",
      "  (0, 3619)\t0.3614145019335824\n",
      "  (0, 3696)\t0.33246223161144045\n",
      "  (0, 10468)\t0.07835059086375501\n",
      "  (0, 25795)\t0.17373660473574845\n",
      "  (0, 12625)\t0.2432140500437629\n",
      "  (0, 1768)\t0.08692989753055766\n",
      "  (1, 307)\t0.2155741651452934\n",
      "  (1, 10429)\t0.1067478521005298\n",
      "  (1, 2806)\t0.23191748066654666\n",
      "  :\t:\n",
      "  (103321, 19111)\t0.3180117892012752\n",
      "  (103321, 23262)\t0.30914074583638135\n",
      "  (103321, 2851)\t0.19557580091291632\n",
      "  (103321, 21180)\t0.20926448868791905\n",
      "  (103321, 12886)\t0.20171076921735573\n",
      "  (103321, 19415)\t0.2644944863605617\n",
      "  (103321, 9528)\t0.1989987498328642\n",
      "  (103321, 20790)\t0.13200563714263036\n",
      "  (103321, 954)\t0.2093747698709429\n",
      "  (103321, 3996)\t0.12829013755265398\n",
      "  (103321, 16981)\t0.1326935405267636\n",
      "  (103321, 8038)\t0.10681061891728812\n",
      "  (103321, 1361)\t0.1332588819312704\n",
      "  (103321, 25046)\t0.14592902830987942\n",
      "  (103321, 8087)\t0.13125373062025772\n",
      "  (103321, 25370)\t0.08876921758421956\n",
      "  (103321, 10996)\t0.22377187520470812\n",
      "  (103321, 17347)\t0.24609181350902035\n",
      "  (103321, 17177)\t0.19660935137361757\n",
      "  (103321, 7850)\t0.24871671450242028\n",
      "  (103321, 13086)\t0.07061242234024236\n",
      "  (103321, 25142)\t0.055687425130367514\n",
      "  (103321, 25069)\t0.10702320002671262\n",
      "  (103321, 1388)\t0.08982970383877678\n",
      "  (103321, 10468)\t0.091396009272676\n",
      "0            White Blend\n",
      "1         Portuguese Red\n",
      "2             Pinot Gris\n",
      "3               Riesling\n",
      "4             Pinot Noir\n",
      "               ...      \n",
      "103317          Riesling\n",
      "103318        Pinot Noir\n",
      "103319    Gewürztraminer\n",
      "103320        Pinot Gris\n",
      "103321    Gewürztraminer\n",
      "Name: variety, Length: 103322, dtype: object\n"
     ]
    }
   ],
   "source": [
    "print(X)\n",
    "print(y)"
   ]
  },
  {
   "cell_type": "code",
   "execution_count": 12,
   "id": "23a45183",
   "metadata": {},
   "outputs": [
    {
     "data": {
      "text/plain": [
       "LogisticRegression(max_iter=1000)"
      ]
     },
     "execution_count": 12,
     "metadata": {},
     "output_type": "execute_result"
    }
   ],
   "source": [
    "# Build the logistic regression model\n",
    "model = LogisticRegression(max_iter=1000)\n",
    "model.fit(X, y)"
   ]
  },
  {
   "cell_type": "markdown",
   "id": "68e52be7",
   "metadata": {},
   "source": [
    "#### Train Test Split\n"
   ]
  },
  {
   "cell_type": "code",
   "execution_count": 13,
   "id": "7f097351",
   "metadata": {},
   "outputs": [
    {
     "name": "stdout",
     "output_type": "stream",
     "text": [
      "(103322, 28125) (82657, 28125) (20665, 28125)\n"
     ]
    }
   ],
   "source": [
    "# Split the data into training and testing sets\n",
    "X_train, X_test, y_train, y_test = train_test_split(X, y, test_size=0.2, random_state=42)\n",
    "print(X.shape, X_train.shape, X_test.shape)"
   ]
  },
  {
   "cell_type": "markdown",
   "id": "4d541533",
   "metadata": {},
   "source": [
    "#### Accuracy Score"
   ]
  },
  {
   "cell_type": "code",
   "execution_count": 14,
   "id": "715aa363",
   "metadata": {},
   "outputs": [
    {
     "name": "stdout",
     "output_type": "stream",
     "text": [
      "Accuracy: 0.7732881684006775\n"
     ]
    }
   ],
   "source": [
    "# Predict the wine variety on the test set\n",
    "y_pred = model.predict(X_test)\n",
    "\n",
    "# Calculate the accuracy of the model\n",
    "accuracy = accuracy_score(y_test, y_pred)\n",
    "print(\"Accuracy:\", accuracy)"
   ]
  },
  {
   "cell_type": "markdown",
   "id": "1a17e1af",
   "metadata": {},
   "source": [
    "#### Making a Predictive System"
   ]
  },
  {
   "cell_type": "code",
   "execution_count": 15,
   "id": "b9980610",
   "metadata": {},
   "outputs": [
    {
     "name": "stdout",
     "output_type": "stream",
     "text": [
      "Enter a wine review (or 'exit' to quit): exit\n"
     ]
    }
   ],
   "source": [
    "# Function to predict the wine variety based on user input\n",
    "def predict_wine_variety(review):\n",
    "    input_data = vectorizer.transform([review])\n",
    "    prediction = model.predict(input_data)\n",
    "    return prediction[0]\n",
    "\n",
    "# Take user input and test the model\n",
    "while True:\n",
    "    review = input(\"Enter a wine review (or 'exit' to quit): \")\n",
    "    if review.lower() == 'exit':\n",
    "        break\n",
    "    prediction = predict_wine_variety(review)\n",
    "    print(\"Predicted wine variety:\", prediction)"
   ]
  },
  {
   "cell_type": "markdown",
   "id": "4d76c1a1",
   "metadata": {},
   "source": [
    "#### Dumping the model "
   ]
  },
  {
   "cell_type": "code",
   "execution_count": 16,
   "id": "cd02cd07",
   "metadata": {},
   "outputs": [
    {
     "data": {
      "text/plain": [
       "['trained_model.pkl']"
      ]
     },
     "execution_count": 16,
     "metadata": {},
     "output_type": "execute_result"
    }
   ],
   "source": [
    "# Save the trained model\n",
    "joblib.dump(model, 'trained_model.pkl')"
   ]
  },
  {
   "cell_type": "code",
   "execution_count": 17,
   "id": "d6f53792",
   "metadata": {},
   "outputs": [
    {
     "data": {
      "text/plain": [
       "['vectorizer.pkl']"
      ]
     },
     "execution_count": 17,
     "metadata": {},
     "output_type": "execute_result"
    }
   ],
   "source": [
    "# Save the vectorizer\n",
    "joblib.dump(vectorizer, 'vectorizer.pkl')"
   ]
  },
  {
   "cell_type": "markdown",
   "id": "4467b96f",
   "metadata": {},
   "source": [
    "#### Using the model for API"
   ]
  },
  {
   "cell_type": "code",
   "execution_count": 18,
   "id": "8c094682",
   "metadata": {},
   "outputs": [],
   "source": [
    "# Load the trained model and vectorizer\n",
    "model = joblib.load('trained_model.pkl')\n",
    "vectorizer = joblib.load('vectorizer.pkl')"
   ]
  },
  {
   "cell_type": "code",
   "execution_count": 19,
   "id": "3d6e21e6",
   "metadata": {},
   "outputs": [],
   "source": [
    "# Create Flask app\n",
    "app = Flask(__name__)"
   ]
  },
  {
   "cell_type": "markdown",
   "id": "30108617",
   "metadata": {},
   "source": [
    "#### Building an API for prediction"
   ]
  },
  {
   "cell_type": "code",
   "execution_count": 20,
   "id": "ea7b8572",
   "metadata": {},
   "outputs": [],
   "source": [
    "# Define API endpoint for prediction\n",
    "@app.route('/predict', methods=['POST'])\n",
    "def predict():\n",
    "    # Get the input data from the request\n",
    "    data = request.json\n",
    "    reviews = data['reviews']\n",
    "\n",
    "    # Transform the input data using the vectorizer\n",
    "    X = vectorizer.transform(reviews)\n",
    "\n",
    "    # Make predictions using the trained model\n",
    "    predictions = model.predict(X)\n",
    "\n",
    "    # Return the predictions as a JSON response\n",
    "    response = {'predictions': predictions.tolist()}\n",
    "    return jsonify(response)\n"
   ]
  },
  {
   "cell_type": "code",
   "execution_count": null,
   "id": "535beec0",
   "metadata": {},
   "outputs": [
    {
     "name": "stdout",
     "output_type": "stream",
     "text": [
      " * Serving Flask app \"__main__\" (lazy loading)\n",
      " * Environment: production\n",
      "\u001b[31m   WARNING: This is a development server. Do not use it in a production deployment.\u001b[0m\n",
      "\u001b[2m   Use a production WSGI server instead.\u001b[0m\n",
      " * Debug mode: off\n"
     ]
    },
    {
     "name": "stderr",
     "output_type": "stream",
     "text": [
      " * Running on http://127.0.0.1:5000/ (Press CTRL+C to quit)\n"
     ]
    }
   ],
   "source": [
    "if __name__ == '__main__':\n",
    "    app.run(debug=False)\n",
    "    "
   ]
  },
  {
   "cell_type": "code",
   "execution_count": null,
   "id": "702c70d7",
   "metadata": {},
   "outputs": [],
   "source": [
    "# Using the following command to send a POST request with cURL:\n",
    "# curl -X POST -H \"Content-Type: application/json\" -d \"{\\\"reviews\\\": [\\\"Aromas include tropical fruit, broom, brimstone and dried herb. The palate isn't overly expressive, offering unripened apple, citrus and dried sage alongside brisk acidity.\\\"]}\" http://127.0.0.1:5000/predict\n"
   ]
  }
 ],
 "metadata": {
  "kernelspec": {
   "display_name": "Python 3 (ipykernel)",
   "language": "python",
   "name": "python3"
  },
  "language_info": {
   "codemirror_mode": {
    "name": "ipython",
    "version": 3
   },
   "file_extension": ".py",
   "mimetype": "text/x-python",
   "name": "python",
   "nbconvert_exporter": "python",
   "pygments_lexer": "ipython3",
   "version": "3.9.13"
  }
 },
 "nbformat": 4,
 "nbformat_minor": 5
}
